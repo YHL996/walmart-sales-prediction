{
 "cells": [
  {
   "cell_type": "code",
   "execution_count": 5,
   "metadata": {},
   "outputs": [],
   "source": [
    "import pandas as pd\n",
    "\n",
    "# Read the first CSV file\n",
    "df1 = pd.read_csv(\"merged_file_transformer_12heads.csv\")\n",
    "\n",
    "# Read the second CSV file\n",
    "df2 = pd.read_csv(\"..\\merged_file.csv\")\n",
    "\n",
    "# Convert DataFrame values to numeric type\n",
    "df1.iloc[:,1:] = (df1.iloc[:,1:] + df2.iloc[:,1:]) / 2\n",
    "\n",
    "# Write the averages to a new CSV file\n",
    "df1.to_csv(\"ensemble_average.csv\", index=False)\n"
   ]
  },
  {
   "cell_type": "code",
   "execution_count": 13,
   "metadata": {},
   "outputs": [],
   "source": [
    "import pandas as pd\n",
    "import numpy as np\n",
    "\n",
    "# Read the first CSV file\n",
    "df1 = pd.read_csv(\"merged_file_transformer_12heads.csv\", index_col=\"id\")\n",
    "\n",
    "# Read the second CSV file\n",
    "df2 = pd.read_csv(\"..\\merged_file.csv\", index_col=\"id\")\n",
    "\n",
    "# Take the element-wise maximum between df1 and df2\n",
    "max_values = np.maximum(df1, df2)\n",
    "\n",
    "# Write the updated DataFrame to a new CSV file\n",
    "max_values.to_csv(\"ensemble_max.csv\")\n"
   ]
  },
  {
   "cell_type": "code",
   "execution_count": 14,
   "metadata": {},
   "outputs": [],
   "source": [
    "import pandas as pd\n",
    "import numpy as np\n",
    "\n",
    "# Read the first CSV file\n",
    "df1 = pd.read_csv(\"merged_file_transformer_12heads.csv\", index_col=\"id\")\n",
    "\n",
    "# Read the second CSV file\n",
    "df2 = pd.read_csv(\"..\\merged_file.csv\", index_col=\"id\")\n",
    "\n",
    "# Take the element-wise maximum between df1 and df2\n",
    "max_values = np.minimum(df1, df2)\n",
    "\n",
    "# Write the updated DataFrame to a new CSV file\n",
    "max_values.to_csv(\"ensemble_min.csv\")\n"
   ]
  }
 ],
 "metadata": {
  "kernelspec": {
   "display_name": "Python 3",
   "language": "python",
   "name": "python3"
  },
  "language_info": {
   "codemirror_mode": {
    "name": "ipython",
    "version": 3
   },
   "file_extension": ".py",
   "mimetype": "text/x-python",
   "name": "python",
   "nbconvert_exporter": "python",
   "pygments_lexer": "ipython3",
   "version": "3.11.4"
  }
 },
 "nbformat": 4,
 "nbformat_minor": 2
}
